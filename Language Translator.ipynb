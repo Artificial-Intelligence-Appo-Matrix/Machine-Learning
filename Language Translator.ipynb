{
 "cells": [
  {
   "cell_type": "markdown",
   "metadata": {},
   "source": [
    "**Language Translator using Python**\n",
    "\n",
    "You can easily translate any language using Google translator, but creating your translator will be a satisfying experience as a programmer."
   ]
  },
  {
   "cell_type": "code",
   "execution_count": 1,
   "metadata": {},
   "outputs": [
    {
     "name": "stdout",
     "output_type": "stream",
     "text": [
      "Collecting googletrans\n",
      "  Downloading googletrans-4.0.2-py3-none-any.whl.metadata (10 kB)\n",
      "Collecting httpx>=0.27.2 (from httpx[http2]>=0.27.2->googletrans)\n",
      "  Downloading httpx-0.28.1-py3-none-any.whl.metadata (7.1 kB)\n",
      "Requirement already satisfied: anyio in c:\\users\\alipa\\anaconda3\\lib\\site-packages (from httpx>=0.27.2->httpx[http2]>=0.27.2->googletrans) (4.2.0)\n",
      "Requirement already satisfied: certifi in c:\\users\\alipa\\anaconda3\\lib\\site-packages (from httpx>=0.27.2->httpx[http2]>=0.27.2->googletrans) (2025.1.31)\n",
      "Requirement already satisfied: httpcore==1.* in c:\\users\\alipa\\anaconda3\\lib\\site-packages (from httpx>=0.27.2->httpx[http2]>=0.27.2->googletrans) (1.0.2)\n",
      "Requirement already satisfied: idna in c:\\users\\alipa\\anaconda3\\lib\\site-packages (from httpx>=0.27.2->httpx[http2]>=0.27.2->googletrans) (3.7)\n",
      "Requirement already satisfied: h11<0.15,>=0.13 in c:\\users\\alipa\\anaconda3\\lib\\site-packages (from httpcore==1.*->httpx>=0.27.2->httpx[http2]>=0.27.2->googletrans) (0.14.0)\n",
      "Collecting h2<5,>=3 (from httpx[http2]>=0.27.2->googletrans)\n",
      "  Downloading h2-4.2.0-py3-none-any.whl.metadata (5.1 kB)\n",
      "Collecting hyperframe<7,>=6.1 (from h2<5,>=3->httpx[http2]>=0.27.2->googletrans)\n",
      "  Downloading hyperframe-6.1.0-py3-none-any.whl.metadata (4.3 kB)\n",
      "Collecting hpack<5,>=4.1 (from h2<5,>=3->httpx[http2]>=0.27.2->googletrans)\n",
      "  Downloading hpack-4.1.0-py3-none-any.whl.metadata (4.6 kB)\n",
      "Requirement already satisfied: sniffio>=1.1 in c:\\users\\alipa\\anaconda3\\lib\\site-packages (from anyio->httpx>=0.27.2->httpx[http2]>=0.27.2->googletrans) (1.3.0)\n",
      "Downloading googletrans-4.0.2-py3-none-any.whl (18 kB)\n",
      "Downloading httpx-0.28.1-py3-none-any.whl (73 kB)\n",
      "Downloading h2-4.2.0-py3-none-any.whl (60 kB)\n",
      "Downloading hpack-4.1.0-py3-none-any.whl (34 kB)\n",
      "Downloading hyperframe-6.1.0-py3-none-any.whl (13 kB)\n",
      "Installing collected packages: hyperframe, hpack, httpx, h2, googletrans\n",
      "  Attempting uninstall: httpx\n",
      "    Found existing installation: httpx 0.27.0\n",
      "    Uninstalling httpx-0.27.0:\n",
      "      Successfully uninstalled httpx-0.27.0\n",
      "Successfully installed googletrans-4.0.2 h2-4.2.0 hpack-4.1.0 httpx-0.28.1 hyperframe-6.1.0\n",
      "Note: you may need to restart the kernel to use updated packages.\n"
     ]
    }
   ],
   "source": [
    "pip install googletrans"
   ]
  },
  {
   "cell_type": "code",
   "execution_count": 3,
   "metadata": {},
   "outputs": [
    {
     "name": "stdout",
     "output_type": "stream",
     "text": [
      "Collecting googletrans==4.0.0-rc1\n",
      "  Downloading googletrans-4.0.0rc1.tar.gz (20 kB)\n",
      "  Preparing metadata (setup.py): started\n",
      "  Preparing metadata (setup.py): finished with status 'done'\n",
      "Collecting httpx==0.13.3 (from googletrans==4.0.0-rc1)\n",
      "  Downloading httpx-0.13.3-py3-none-any.whl.metadata (25 kB)\n",
      "Requirement already satisfied: certifi in c:\\users\\alipa\\anaconda3\\lib\\site-packages (from httpx==0.13.3->googletrans==4.0.0-rc1) (2025.1.31)\n",
      "Collecting hstspreload (from httpx==0.13.3->googletrans==4.0.0-rc1)\n",
      "  Downloading hstspreload-2025.1.1-py3-none-any.whl.metadata (2.1 kB)\n",
      "Requirement already satisfied: sniffio in c:\\users\\alipa\\anaconda3\\lib\\site-packages (from httpx==0.13.3->googletrans==4.0.0-rc1) (1.3.0)\n",
      "Collecting chardet==3.* (from httpx==0.13.3->googletrans==4.0.0-rc1)\n",
      "  Downloading chardet-3.0.4-py2.py3-none-any.whl.metadata (3.2 kB)\n",
      "Collecting idna==2.* (from httpx==0.13.3->googletrans==4.0.0-rc1)\n",
      "  Downloading idna-2.10-py2.py3-none-any.whl.metadata (9.1 kB)\n",
      "Collecting rfc3986<2,>=1.3 (from httpx==0.13.3->googletrans==4.0.0-rc1)\n",
      "  Downloading rfc3986-1.5.0-py2.py3-none-any.whl.metadata (6.5 kB)\n",
      "Collecting httpcore==0.9.* (from httpx==0.13.3->googletrans==4.0.0-rc1)\n",
      "  Downloading httpcore-0.9.1-py3-none-any.whl.metadata (4.6 kB)\n",
      "Collecting h11<0.10,>=0.8 (from httpcore==0.9.*->httpx==0.13.3->googletrans==4.0.0-rc1)\n",
      "  Downloading h11-0.9.0-py2.py3-none-any.whl.metadata (8.1 kB)\n",
      "Collecting h2==3.* (from httpcore==0.9.*->httpx==0.13.3->googletrans==4.0.0-rc1)\n",
      "  Downloading h2-3.2.0-py2.py3-none-any.whl.metadata (32 kB)\n",
      "Collecting hyperframe<6,>=5.2.0 (from h2==3.*->httpcore==0.9.*->httpx==0.13.3->googletrans==4.0.0-rc1)\n",
      "  Downloading hyperframe-5.2.0-py2.py3-none-any.whl.metadata (7.2 kB)\n",
      "Collecting hpack<4,>=3.0 (from h2==3.*->httpcore==0.9.*->httpx==0.13.3->googletrans==4.0.0-rc1)\n",
      "  Downloading hpack-3.0.0-py2.py3-none-any.whl.metadata (7.0 kB)\n",
      "Downloading httpx-0.13.3-py3-none-any.whl (55 kB)\n",
      "Downloading chardet-3.0.4-py2.py3-none-any.whl (133 kB)\n",
      "Downloading httpcore-0.9.1-py3-none-any.whl (42 kB)\n",
      "Downloading idna-2.10-py2.py3-none-any.whl (58 kB)\n",
      "Downloading h2-3.2.0-py2.py3-none-any.whl (65 kB)\n",
      "Downloading rfc3986-1.5.0-py2.py3-none-any.whl (31 kB)\n",
      "Downloading hstspreload-2025.1.1-py3-none-any.whl (1.3 MB)\n",
      "   ---------------------------------------- 0.0/1.3 MB ? eta -:--:--\n",
      "   ---------------------------------------- 0.0/1.3 MB ? eta -:--:--\n",
      "   ---------------------------------------- 0.0/1.3 MB ? eta -:--:--\n",
      "   ---------------------------------------- 0.0/1.3 MB ? eta -:--:--\n",
      "   -------- ------------------------------- 0.3/1.3 MB ? eta -:--:--\n",
      "   -------- ------------------------------- 0.3/1.3 MB ? eta -:--:--\n",
      "   -------- ------------------------------- 0.3/1.3 MB ? eta -:--:--\n",
      "   -------- ------------------------------- 0.3/1.3 MB ? eta -:--:--\n",
      "   ---------------- ----------------------- 0.5/1.3 MB 279.5 kB/s eta 0:00:03\n",
      "   ---------------- ----------------------- 0.5/1.3 MB 279.5 kB/s eta 0:00:03\n",
      "   ---------------- ----------------------- 0.5/1.3 MB 279.5 kB/s eta 0:00:03\n",
      "   ---------------- ----------------------- 0.5/1.3 MB 279.5 kB/s eta 0:00:03\n",
      "   ---------------- ----------------------- 0.5/1.3 MB 279.5 kB/s eta 0:00:03\n",
      "   ---------------- ----------------------- 0.5/1.3 MB 279.5 kB/s eta 0:00:03\n",
      "   ---------------- ----------------------- 0.5/1.3 MB 279.5 kB/s eta 0:00:03\n",
      "   ------------------------ --------------- 0.8/1.3 MB 217.9 kB/s eta 0:00:03\n",
      "   ------------------------ --------------- 0.8/1.3 MB 217.9 kB/s eta 0:00:03\n",
      "   ------------------------ --------------- 0.8/1.3 MB 217.9 kB/s eta 0:00:03\n",
      "   ------------------------ --------------- 0.8/1.3 MB 217.9 kB/s eta 0:00:03\n",
      "   ------------------------ --------------- 0.8/1.3 MB 217.9 kB/s eta 0:00:03\n",
      "   ------------------------ --------------- 0.8/1.3 MB 217.9 kB/s eta 0:00:03\n",
      "   ------------------------ --------------- 0.8/1.3 MB 217.9 kB/s eta 0:00:03\n",
      "   ------------------------ --------------- 0.8/1.3 MB 217.9 kB/s eta 0:00:03\n",
      "   ------------------------ --------------- 0.8/1.3 MB 217.9 kB/s eta 0:00:03\n",
      "   ------------------------ --------------- 0.8/1.3 MB 217.9 kB/s eta 0:00:03\n",
      "   ------------------------ --------------- 0.8/1.3 MB 217.9 kB/s eta 0:00:03\n",
      "   -------------------------------- ------- 1.0/1.3 MB 170.6 kB/s eta 0:00:02\n",
      "   -------------------------------- ------- 1.0/1.3 MB 170.6 kB/s eta 0:00:02\n",
      "   -------------------------------- ------- 1.0/1.3 MB 170.6 kB/s eta 0:00:02\n",
      "   -------------------------------- ------- 1.0/1.3 MB 170.6 kB/s eta 0:00:02\n",
      "   -------------------------------- ------- 1.0/1.3 MB 170.6 kB/s eta 0:00:02\n",
      "   -------------------------------- ------- 1.0/1.3 MB 170.6 kB/s eta 0:00:02\n",
      "   -------------------------------- ------- 1.0/1.3 MB 170.6 kB/s eta 0:00:02\n",
      "   -------------------------------- ------- 1.0/1.3 MB 170.6 kB/s eta 0:00:02\n",
      "   -------------------------------- ------- 1.0/1.3 MB 170.6 kB/s eta 0:00:02\n",
      "   -------------------------------- ------- 1.0/1.3 MB 170.6 kB/s eta 0:00:02\n",
      "   ---------------------------------------- 1.3/1.3 MB 151.8 kB/s eta 0:00:00\n",
      "Downloading h11-0.9.0-py2.py3-none-any.whl (53 kB)\n",
      "Downloading hpack-3.0.0-py2.py3-none-any.whl (38 kB)\n",
      "Downloading hyperframe-5.2.0-py2.py3-none-any.whl (12 kB)\n",
      "Building wheels for collected packages: googletrans\n",
      "  Building wheel for googletrans (setup.py): started\n",
      "  Building wheel for googletrans (setup.py): finished with status 'done'\n",
      "  Created wheel for googletrans: filename=googletrans-4.0.0rc1-py3-none-any.whl size=17457 sha256=1d3d39f9e36877c39c0f73693be68969c3dbf499f81fe73aa30ea57a3ede3e9d\n",
      "  Stored in directory: c:\\users\\alipa\\appdata\\local\\pip\\cache\\wheels\\95\\0f\\04\\b17a72024b56a60e499ce1a6313d283ed5ba332407155bee03\n",
      "Successfully built googletrans\n",
      "Installing collected packages: rfc3986, hyperframe, hpack, h11, chardet, idna, hstspreload, h2, httpcore, httpx, googletrans\n",
      "  Attempting uninstall: hyperframe\n",
      "    Found existing installation: hyperframe 6.1.0\n",
      "    Uninstalling hyperframe-6.1.0:\n",
      "      Successfully uninstalled hyperframe-6.1.0\n",
      "  Attempting uninstall: hpack\n",
      "    Found existing installation: hpack 4.1.0\n",
      "    Uninstalling hpack-4.1.0:\n",
      "      Successfully uninstalled hpack-4.1.0\n",
      "  Attempting uninstall: h11\n",
      "    Found existing installation: h11 0.14.0\n",
      "    Uninstalling h11-0.14.0:\n",
      "      Successfully uninstalled h11-0.14.0\n",
      "  Attempting uninstall: chardet\n",
      "    Found existing installation: chardet 4.0.0\n",
      "    Uninstalling chardet-4.0.0:\n",
      "      Successfully uninstalled chardet-4.0.0\n",
      "  Attempting uninstall: idna\n",
      "    Found existing installation: idna 3.7\n",
      "    Uninstalling idna-3.7:\n",
      "      Successfully uninstalled idna-3.7\n",
      "  Attempting uninstall: h2\n",
      "    Found existing installation: h2 4.2.0\n",
      "    Uninstalling h2-4.2.0:\n",
      "      Successfully uninstalled h2-4.2.0\n",
      "  Attempting uninstall: httpcore\n",
      "    Found existing installation: httpcore 1.0.2\n",
      "    Uninstalling httpcore-1.0.2:\n",
      "      Successfully uninstalled httpcore-1.0.2\n",
      "  Attempting uninstall: httpx\n",
      "    Found existing installation: httpx 0.28.1\n",
      "    Uninstalling httpx-0.28.1:\n",
      "      Successfully uninstalled httpx-0.28.1\n",
      "  Attempting uninstall: googletrans\n",
      "    Found existing installation: googletrans 4.0.2\n",
      "    Uninstalling googletrans-4.0.2:\n",
      "      Successfully uninstalled googletrans-4.0.2\n",
      "Successfully installed chardet-3.0.4 googletrans-4.0.0rc1 h11-0.9.0 h2-3.2.0 hpack-3.0.0 hstspreload-2025.1.1 httpcore-0.9.1 httpx-0.13.3 hyperframe-5.2.0 idna-2.10 rfc3986-1.5.0\n",
      "Note: you may need to restart the kernel to use updated packages.\n"
     ]
    },
    {
     "name": "stderr",
     "output_type": "stream",
     "text": [
      "ERROR: pip's dependency resolver does not currently take into account all the packages that are installed. This behaviour is the source of the following dependency conflicts.\n",
      "jupyterlab 4.2.5 requires httpx>=0.25.0, but you have httpx 0.13.3 which is incompatible.\n"
     ]
    }
   ],
   "source": [
    "pip install googletrans==4.0.0-rc1\n"
   ]
  },
  {
   "cell_type": "code",
   "execution_count": 5,
   "metadata": {},
   "outputs": [
    {
     "name": "stdin",
     "output_type": "stream",
     "text": [
      "Enter a text hello how are you\n"
     ]
    },
    {
     "name": "stdout",
     "output_type": "stream",
     "text": [
      "ہیلو آپ کیسے ہیں؟\n"
     ]
    }
   ],
   "source": [
    "from googletrans import Translator\n",
    "\n",
    "translator = Translator()\n",
    "text = input(\"Enter a text\")\n",
    "translate = translator.translate(text, dest='ur')\n",
    "final_text= translate.text\n",
    "print(final_text)"
   ]
  },
  {
   "cell_type": "code",
   "execution_count": 11,
   "metadata": {},
   "outputs": [
    {
     "data": {
      "text/plain": [
       "str"
      ]
     },
     "execution_count": 11,
     "metadata": {},
     "output_type": "execute_result"
    }
   ],
   "source": [
    "type(translate.text)"
   ]
  },
  {
   "cell_type": "code",
   "execution_count": 13,
   "metadata": {},
   "outputs": [],
   "source": [
    "# infinite translator\n",
    "# translators object\n",
    "tr1= Translator()"
   ]
  },
  {
   "cell_type": "code",
   "execution_count": 17,
   "metadata": {},
   "outputs": [
    {
     "data": {
      "text/plain": [
       "googletrans.client.Translator"
      ]
     },
     "execution_count": 17,
     "metadata": {},
     "output_type": "execute_result"
    }
   ],
   "source": [
    "type(tr1)"
   ]
  },
  {
   "cell_type": "code",
   "execution_count": 79,
   "metadata": {},
   "outputs": [
    {
     "name": "stdin",
     "output_type": "stream",
     "text": [
      "Enter Text To Translate or type quit to Exit ther Program:  hello how are you\n",
      "Enter Your Desired Language to Be Translated:  urdu\n"
     ]
    },
    {
     "name": "stdout",
     "output_type": "stream",
     "text": [
      "ہیلو آپ کیسے ہیں؟\n"
     ]
    },
    {
     "name": "stdin",
     "output_type": "stream",
     "text": [
      "Enter Text To Translate or type quit to Exit ther Program:  quit\n",
      "Do You Want to See History:  yes\n"
     ]
    },
    {
     "name": "stdout",
     "output_type": "stream",
     "text": [
      "User Input: hello how are you \t User Desired Language : urdu \t Translated Text to the Desired Langue:  ہیلو آپ کیسے ہیں؟\n"
     ]
    }
   ],
   "source": [
    "# Mapper for Languages\n",
    "languages = {\n",
    "    \"english\": \"en\",\n",
    "    \"urdu\":\"ur\",\n",
    "    \"arabic\":\"ar\"\n",
    "}\n",
    "\n",
    "# History of Translations\n",
    "user_lang= []\n",
    "lange= []\n",
    "user_input_text = []\n",
    "translated = []\n",
    "ch= True\n",
    "while ch:\n",
    "    a= ''\n",
    "    if a==\"quit\":\n",
    "        ch= False\n",
    "\n",
    "    else:\n",
    "        text_to_be_translate = input(\"Enter Text To Translate or type quit to Exit ther Program: \")\n",
    "         \n",
    "        if text_to_be_translate =='quit':\n",
    "            a= text_to_be_translate\n",
    "            break\n",
    "        else:\n",
    "            desired_lang = input(\"Enter Your Desired Language to Be Translated: \").lower()\n",
    "            c=desired_lang\n",
    "            if desired_lang in languages.keys():\n",
    "                desired_lang = languages[c]\n",
    "                translated_text = translator.translate(text_to_be_translate, dest=desired_lang)\n",
    "                print(translated_text.text)\n",
    "                lange.append(c)\n",
    "                user_input_text.append(text_to_be_translate)\n",
    "                translated.append(translated_text.text)\n",
    "hist_viwer= input(\"Do You Want to See History: \").lower()\n",
    "if hist_viwer[0] == \"y\" or hist_viwer[0] == \"1\":\n",
    "    for i in range (len(lange)):\n",
    "        print(\"User Input Text Language is: \",,\"User Input:\",user_input_text[i], \"\\n User Desired Language :\",lange[i], \"\\n Translated Text to the Desired Langue: \",translated[i])\n",
    "elif hist_viwer[0] == \"n\" or hist_viwer[0] == '0':\n",
    "    print(\"Thanks For Using The System !!!! \")\n",
    "else:\n",
    "    print(\"Invalid Option Entered\")            \n",
    "\n",
    "            "
   ]
  },
  {
   "cell_type": "code",
   "execution_count": 75,
   "metadata": {},
   "outputs": [
    {
     "data": {
      "text/plain": [
       "['sadfsfdsdsv asdfsfsd']"
      ]
     },
     "execution_count": 75,
     "metadata": {},
     "output_type": "execute_result"
    }
   ],
   "source": [
    "user_input_text"
   ]
  },
  {
   "cell_type": "code",
   "execution_count": null,
   "metadata": {},
   "outputs": [],
   "source": []
  }
 ],
 "metadata": {
  "kernelspec": {
   "display_name": "Python [conda env:base] *",
   "language": "python",
   "name": "conda-base-py"
  },
  "language_info": {
   "codemirror_mode": {
    "name": "ipython",
    "version": 3
   },
   "file_extension": ".py",
   "mimetype": "text/x-python",
   "name": "python",
   "nbconvert_exporter": "python",
   "pygments_lexer": "ipython3",
   "version": "3.12.7"
  }
 },
 "nbformat": 4,
 "nbformat_minor": 4
}
